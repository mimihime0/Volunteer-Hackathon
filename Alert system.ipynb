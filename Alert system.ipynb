{
  "nbformat": 4,
  "nbformat_minor": 0,
  "metadata": {
    "colab": {
      "provenance": []
    },
    "kernelspec": {
      "name": "python3",
      "display_name": "Python 3"
    },
    "language_info": {
      "name": "python"
    }
  },
  "cells": [
    {
      "cell_type": "code",
      "execution_count": null,
      "metadata": {
        "id": "pUOQgX2mglK2"
      },
      "outputs": [],
      "source": [
        "import pandas as pd\n",
        "\n",
        "def check_humidity(humidity):\n",
        "    if 25 <= humidity <= 40:\n",
        "        return \"Optimal humidity\"\n",
        "    elif 20 <= humidity <= 50:\n",
        "        return \"Normal humidity\"\n",
        "    else:\n",
        "        return \"Out of Range---> send alert\"\n",
        "\n",
        "def check_temperature(temperature):\n",
        "    if 25 <= temperature <= 40:\n",
        "        return \"Optimal temperature\"\n",
        "    elif -3 <= temperature <= 50:\n",
        "        return \"Normal temperature\"\n",
        "    else:\n",
        "        return \"Out of Range (temperature)---> send alert\"\n",
        "\n",
        "def check_moisture(moisture):\n",
        "    if 15 <= moisture <= 25:\n",
        "        return \"Optimal moisture\"\n",
        "    elif 8 <= moisture <= 30:\n",
        "        return \"Normal moisture\"\n",
        "    else:\n",
        "        return \"Out of Range moisture---> send alert\"\n",
        "\n",
        "def check_ph(ph):\n",
        "    if 7 <= ph <= 7.8:\n",
        "        return \"Optimal ph\"\n",
        "    elif 7 <= ph <= 8.5:\n",
        "        return \"Normal ph\"\n",
        "    else:\n",
        "        return \"Out of Range ph---> send alert\"\n",
        "\n",
        "def check_salinity(salinity):\n",
        "    if 0.5 <= salinity <= 2.5:\n",
        "        return \"Optimal salinity\"\n",
        "    elif 0 <= salinity <= 3:\n",
        "        return \"Normal salinity\"\n",
        "    else:\n",
        "        return \"Out of Range salinity---> send alert\"\n",
        "\n",
        "def check_nutrient_level(nutrient,value, min_optimal, max_optimal):\n",
        "    if min_optimal <= value <= max_optimal:\n",
        "        return \"Optimal\"+\" \"+ nutrient+\" \"+\"---> send alert\"\n",
        "    else:\n",
        "        return \"Out of Range\"+\" \"+ nutrient+\"\"+\"---> send alert\"\n",
        "\n",
        "# Read the file/database that consist of the data collected from a sensor\n",
        "file_path = input(\"Enter the file path: \")\n",
        "data = pd.read_csv(file_path)\n",
        "\n",
        "# the sensor will process each data it collected then it will act\n",
        "for index, row in data.iterrows():\n",
        "    print(f\"\\nTimestamp: {row['timestamp']}\")\n",
        "    print(f\"Humidity: {check_humidity(row['humidity'])}\")\n",
        "    print(f\"Temperature: {check_temperature(row['temperature'])}\")\n",
        "    print(f\"Moisture: {check_moisture(row['moisture'])}\")\n",
        "    print(f\"pH Level: {check_ph(row['pH'])}\")\n",
        "    print(f\"Salinity: {check_salinity(row['salinity'])}\")\n",
        "    print(f\"Nitrogen: {check_nutrient_level('nitrogen',row['nitrogen'], 30, 80)}\")\n",
        "    print(f\"Phosphorus: {check_nutrient_level('phosphorus',row['phosphorus'], 5, 15)}\")\n",
        "    print(f\"Potassium: {check_nutrient_level('potassium',row['potassium'], 80, 200)}\")"
      ]
    }
  ]
}